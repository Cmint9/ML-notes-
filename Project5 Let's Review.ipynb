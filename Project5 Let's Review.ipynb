{
 "cells": [
  {
   "cell_type": "markdown",
   "id": "d8afb6fb",
   "metadata": {},
   "source": [
    "# MTH448 Project5"
   ]
  },
  {
   "cell_type": "markdown",
   "id": "67e0b779",
   "metadata": {},
   "source": [
    "## Let's Review"
   ]
  },
  {
   "cell_type": "markdown",
   "id": "b8458045",
   "metadata": {},
   "source": [
    "# Introduction"
   ]
  },
  {
   "cell_type": "markdown",
   "id": "4a284cfa",
   "metadata": {},
   "source": [
    "In the digital age, movies as a great source of entertainment have brought us countless beautiful stories and experiences of visual effects. It also demonstrates the progress and development of technology. Usually, everyone has different feelings and comments about each movie or even a particular plot. Therefore, online movie reviews have become a very interesting thing, where different people decide whether a movie is positive or negative based on their own experience. "
   ]
  },
  {
   "cell_type": "markdown",
   "id": "fa25cf80",
   "metadata": {},
   "source": [
    "In project5, we can try to predict whether a movie is positive or negative based on the text of the reviews in the database, but only based on the few reviews. Of course, it is neither one-sided nor objective to decide whether a movie is positive or negative based only on a few ratings. Therefore, we will use two theorems, $Bayes' Theorem$ and $Naive Bayes Classifier$, to help us predict whether a movie is positive or negative in a relatively fair and reasonable way.These two theorems need to deal with a large database of 25,000 movie reviews, which will be labeled positive and negative respectively. markers. We calculate the frequency of word occurrences by removing trivial words using the provided list of stop words and avoid the problem of words that have not been seen by applying Laplace smoothing. We can also try to visualize the most frequent words in positive and negative comments, thus showing interesting human imagery to help people gain insight into the linguistic characteristics of each emotion through text.\n",
    "\n",
    "\n",
    "\n",
    "\n",
    "\n"
   ]
  },
  {
   "cell_type": "markdown",
   "id": "33b23070",
   "metadata": {},
   "source": [
    "Ultimately, our goal is to develop an effective classifier that can help us analyze its accuracy and misclassification. Through this process, we can get a real sense of how we"
   ]
  },
  {
   "cell_type": "markdown",
   "id": "2df7ba61",
   "metadata": {},
   "source": [
    "## Know about Bayes' Theorem and Naive Bayes Classifier"
   ]
  },
  {
   "cell_type": "markdown",
   "id": "15d4560e",
   "metadata": {},
   "source": [
    "Before we begin then, we need to briefly understand what Baye's Theorem and Naive Bayes Classifer are and how we will apply them."
   ]
  },
  {
   "cell_type": "markdown",
   "id": "1b3e5f9f",
   "metadata": {},
   "source": [
    "### Bayes' Theorem"
   ]
  },
  {
   "cell_type": "markdown",
   "id": "a184dab6",
   "metadata": {},
   "source": [
    "As we mentioned Bayes' Theorem before, we still can review a liitle bit about Bayes theorem.\n",
    "In Bayes theorem $\\bigg(P(A|B)=\\frac{P(B|A)P(A)}{P(B)}\\bigg)$, they usually have their own function.\n",
    "\n",
    "* $P(A|B)$ is called the posterior because it is our degree of belief in event $A$ after seeing data.\n",
    "* $P(A)$ is called the prior because it is our degree of belief in event $A$ before aka prior to seeing data.\n",
    "* $P(B|A)$ is called the likelyhood because it represents the likelihood that our data (event B) occured given the phenomenon of interest (event A).\n",
    "* $P(B)$ is called the marginal because it is seperate from the rest of the formula and often ignored (it is marginalized).\n",
    "* (Citation from Lecture note 21) "
   ]
  },
  {
   "cell_type": "markdown",
   "id": "f268544c",
   "metadata": {},
   "source": [
    "### Naive Bayes Classifier"
   ]
  },
  {
   "cell_type": "markdown",
   "id": "a741224d",
   "metadata": {},
   "source": [
    "Naive Bayes Classifier is based on Bayes Theorem to compute probabilities and it is also a supervised machine learning algorithm for classification tasks. It can effectively categorize data based on the probabilities of different classes of specific data features. In machine learning, Naive Bayes Classifier is a faster classification algorithm. So in our project, we will use Naive Bayes Classifier to help us classify the movie reviews in our database. There are two main categories: positive and negative, based on the frequency of occurrence of the text, we can determine whether the movie's attributes are positive or negative. Meanwhile, the Naive Bayes algorithm can be used for span filtering or article classification as well as sentiment analysis."
   ]
  },
  {
   "cell_type": "markdown",
   "id": "1cf17e32",
   "metadata": {},
   "source": [
    "Consider the posterior probabilities for a review with certain words being positive and negative\n",
    "\n",
    "$$P(\\text{Positive}|\\text{Words}) = \\frac{P(\\text{Words}|\\text{Positive})P(\\text{Positive})}{P(\\text{Words})}$$\n",
    "\n",
    "$$P(\\text{Negative}|\\text{Words}) = \\frac{P(\\text{Words}|\\text{Negative})P(\\text{Negative})}{P(\\text{Words})}$$\n"
   ]
  },
  {
   "cell_type": "markdown",
   "id": "5ecd603c",
   "metadata": {},
   "source": [
    "## 1. Load our Dataset"
   ]
  },
  {
   "cell_type": "markdown",
   "id": "e873e75f",
   "metadata": {},
   "source": [
    "We need to import the movie_reviews data class “movie_reviews” which contains 25,000 movie reviews and we will use this database to help us predict whether a given movie review is positive or negative. Therefore, before loading the large dataset, we should import the relevant libraries that will help us load the dataset."
   ]
  },
  {
   "cell_type": "code",
   "execution_count": 263,
   "id": "eb91e16f",
   "metadata": {},
   "outputs": [],
   "source": [
    "import numpy as np\n",
    "import re\n",
    "import pandas as pd\n",
    "import matplotlib.pyplot as plt\n",
    "from wordcloud import WordCloud"
   ]
  },
  {
   "cell_type": "markdown",
   "id": "16945158",
   "metadata": {},
   "source": [
    "After importing the libraries, we can start reading this zip file."
   ]
  },
  {
   "cell_type": "code",
   "execution_count": 224,
   "id": "6e3b7bf1",
   "metadata": {},
   "outputs": [],
   "source": [
    "movs = pd.read_csv('movie_reviews.zip')"
   ]
  },
  {
   "cell_type": "code",
   "execution_count": 225,
   "id": "a914b5ef",
   "metadata": {},
   "outputs": [
    {
     "data": {
      "text/html": [
       "<div>\n",
       "<style scoped>\n",
       "    .dataframe tbody tr th:only-of-type {\n",
       "        vertical-align: middle;\n",
       "    }\n",
       "\n",
       "    .dataframe tbody tr th {\n",
       "        vertical-align: top;\n",
       "    }\n",
       "\n",
       "    .dataframe thead th {\n",
       "        text-align: right;\n",
       "    }\n",
       "</style>\n",
       "<table border=\"1\" class=\"dataframe\">\n",
       "  <thead>\n",
       "    <tr style=\"text-align: right;\">\n",
       "      <th></th>\n",
       "      <th>review</th>\n",
       "      <th>sentiment</th>\n",
       "    </tr>\n",
       "  </thead>\n",
       "  <tbody>\n",
       "    <tr>\n",
       "      <th>0</th>\n",
       "      <td>This film is absolutely awful, but nevertheles...</td>\n",
       "      <td>negative</td>\n",
       "    </tr>\n",
       "    <tr>\n",
       "      <th>1</th>\n",
       "      <td>Well since seeing part's 1 through 3 I can hon...</td>\n",
       "      <td>negative</td>\n",
       "    </tr>\n",
       "    <tr>\n",
       "      <th>2</th>\n",
       "      <td>I got to see this film at a preview and was da...</td>\n",
       "      <td>positive</td>\n",
       "    </tr>\n",
       "    <tr>\n",
       "      <th>3</th>\n",
       "      <td>This adaptation positively butchers a classic ...</td>\n",
       "      <td>negative</td>\n",
       "    </tr>\n",
       "    <tr>\n",
       "      <th>4</th>\n",
       "      <td>Råzone is an awful movie! It is so simple. It ...</td>\n",
       "      <td>negative</td>\n",
       "    </tr>\n",
       "    <tr>\n",
       "      <th>...</th>\n",
       "      <td>...</td>\n",
       "      <td>...</td>\n",
       "    </tr>\n",
       "    <tr>\n",
       "      <th>24995</th>\n",
       "      <td>With this movie being the only Dirty Harry mov...</td>\n",
       "      <td>positive</td>\n",
       "    </tr>\n",
       "    <tr>\n",
       "      <th>24996</th>\n",
       "      <td>Any screen adaptation of a John Grisham story ...</td>\n",
       "      <td>positive</td>\n",
       "    </tr>\n",
       "    <tr>\n",
       "      <th>24997</th>\n",
       "      <td>This film captured my heart from the very begi...</td>\n",
       "      <td>positive</td>\n",
       "    </tr>\n",
       "    <tr>\n",
       "      <th>24998</th>\n",
       "      <td>A deplorable social condition triggers off the...</td>\n",
       "      <td>positive</td>\n",
       "    </tr>\n",
       "    <tr>\n",
       "      <th>24999</th>\n",
       "      <td>Always enjoy the great acting of Drew Barrymor...</td>\n",
       "      <td>positive</td>\n",
       "    </tr>\n",
       "  </tbody>\n",
       "</table>\n",
       "<p>25000 rows × 2 columns</p>\n",
       "</div>"
      ],
      "text/plain": [
       "                                                  review sentiment\n",
       "0      This film is absolutely awful, but nevertheles...  negative\n",
       "1      Well since seeing part's 1 through 3 I can hon...  negative\n",
       "2      I got to see this film at a preview and was da...  positive\n",
       "3      This adaptation positively butchers a classic ...  negative\n",
       "4      Råzone is an awful movie! It is so simple. It ...  negative\n",
       "...                                                  ...       ...\n",
       "24995  With this movie being the only Dirty Harry mov...  positive\n",
       "24996  Any screen adaptation of a John Grisham story ...  positive\n",
       "24997  This film captured my heart from the very begi...  positive\n",
       "24998  A deplorable social condition triggers off the...  positive\n",
       "24999  Always enjoy the great acting of Drew Barrymor...  positive\n",
       "\n",
       "[25000 rows x 2 columns]"
      ]
     },
     "execution_count": 225,
     "metadata": {},
     "output_type": "execute_result"
    }
   ],
   "source": [
    "movs"
   ]
  },
  {
   "cell_type": "markdown",
   "id": "c23a0bc1",
   "metadata": {},
   "source": [
    "We need to split the huge database into test file and training file which will help us to train the data and use the test file to test and observe the accuracy of the estimation. So, before splitting the dataset, we can import the sckilearn library."
   ]
  },
  {
   "cell_type": "code",
   "execution_count": 226,
   "id": "1e12d278",
   "metadata": {},
   "outputs": [],
   "source": [
    "from scipy.stats import gaussian_kde\n",
    "from sklearn.model_selection import train_test_split"
   ]
  },
  {
   "cell_type": "code",
   "execution_count": 227,
   "id": "830db635",
   "metadata": {},
   "outputs": [],
   "source": [
    "train_set, test_set = train_test_split(movs, test_size=0.2, random_state=42)"
   ]
  },
  {
   "cell_type": "code",
   "execution_count": 228,
   "id": "e3198468",
   "metadata": {},
   "outputs": [
    {
     "data": {
      "text/html": [
       "<div>\n",
       "<style scoped>\n",
       "    .dataframe tbody tr th:only-of-type {\n",
       "        vertical-align: middle;\n",
       "    }\n",
       "\n",
       "    .dataframe tbody tr th {\n",
       "        vertical-align: top;\n",
       "    }\n",
       "\n",
       "    .dataframe thead th {\n",
       "        text-align: right;\n",
       "    }\n",
       "</style>\n",
       "<table border=\"1\" class=\"dataframe\">\n",
       "  <thead>\n",
       "    <tr style=\"text-align: right;\">\n",
       "      <th></th>\n",
       "      <th>review</th>\n",
       "      <th>sentiment</th>\n",
       "    </tr>\n",
       "  </thead>\n",
       "  <tbody>\n",
       "    <tr>\n",
       "      <th>23311</th>\n",
       "      <td>I think that the movie was kind of weird. In t...</td>\n",
       "      <td>positive</td>\n",
       "    </tr>\n",
       "    <tr>\n",
       "      <th>23623</th>\n",
       "      <td>This movie was hysterical. I haven't laughed t...</td>\n",
       "      <td>positive</td>\n",
       "    </tr>\n",
       "    <tr>\n",
       "      <th>1020</th>\n",
       "      <td>From the beginning of the movie I had a feelin...</td>\n",
       "      <td>negative</td>\n",
       "    </tr>\n",
       "    <tr>\n",
       "      <th>12645</th>\n",
       "      <td>This 1953 Sam Fuller movie contains some of hi...</td>\n",
       "      <td>positive</td>\n",
       "    </tr>\n",
       "    <tr>\n",
       "      <th>1533</th>\n",
       "      <td>Recap: Full moon. A creature, a huge werewolf,...</td>\n",
       "      <td>negative</td>\n",
       "    </tr>\n",
       "    <tr>\n",
       "      <th>...</th>\n",
       "      <td>...</td>\n",
       "      <td>...</td>\n",
       "    </tr>\n",
       "    <tr>\n",
       "      <th>21575</th>\n",
       "      <td>What made the original Killer Tomatoes fun was...</td>\n",
       "      <td>negative</td>\n",
       "    </tr>\n",
       "    <tr>\n",
       "      <th>5390</th>\n",
       "      <td>Perhaps I'm out of date or just don't know wha...</td>\n",
       "      <td>negative</td>\n",
       "    </tr>\n",
       "    <tr>\n",
       "      <th>860</th>\n",
       "      <td>how can a director that makes such great films...</td>\n",
       "      <td>negative</td>\n",
       "    </tr>\n",
       "    <tr>\n",
       "      <th>15795</th>\n",
       "      <td>Weak plot, unlikely car malfunction, and helpl...</td>\n",
       "      <td>negative</td>\n",
       "    </tr>\n",
       "    <tr>\n",
       "      <th>23654</th>\n",
       "      <td>I have to agree with most everyone's opinion t...</td>\n",
       "      <td>negative</td>\n",
       "    </tr>\n",
       "  </tbody>\n",
       "</table>\n",
       "<p>20000 rows × 2 columns</p>\n",
       "</div>"
      ],
      "text/plain": [
       "                                                  review sentiment\n",
       "23311  I think that the movie was kind of weird. In t...  positive\n",
       "23623  This movie was hysterical. I haven't laughed t...  positive\n",
       "1020   From the beginning of the movie I had a feelin...  negative\n",
       "12645  This 1953 Sam Fuller movie contains some of hi...  positive\n",
       "1533   Recap: Full moon. A creature, a huge werewolf,...  negative\n",
       "...                                                  ...       ...\n",
       "21575  What made the original Killer Tomatoes fun was...  negative\n",
       "5390   Perhaps I'm out of date or just don't know wha...  negative\n",
       "860    how can a director that makes such great films...  negative\n",
       "15795  Weak plot, unlikely car malfunction, and helpl...  negative\n",
       "23654  I have to agree with most everyone's opinion t...  negative\n",
       "\n",
       "[20000 rows x 2 columns]"
      ]
     },
     "execution_count": 228,
     "metadata": {},
     "output_type": "execute_result"
    }
   ],
   "source": [
    "train_set"
   ]
  },
  {
   "cell_type": "code",
   "execution_count": 229,
   "id": "2a07172a",
   "metadata": {},
   "outputs": [
    {
     "data": {
      "text/html": [
       "<div>\n",
       "<style scoped>\n",
       "    .dataframe tbody tr th:only-of-type {\n",
       "        vertical-align: middle;\n",
       "    }\n",
       "\n",
       "    .dataframe tbody tr th {\n",
       "        vertical-align: top;\n",
       "    }\n",
       "\n",
       "    .dataframe thead th {\n",
       "        text-align: right;\n",
       "    }\n",
       "</style>\n",
       "<table border=\"1\" class=\"dataframe\">\n",
       "  <thead>\n",
       "    <tr style=\"text-align: right;\">\n",
       "      <th></th>\n",
       "      <th>review</th>\n",
       "      <th>sentiment</th>\n",
       "    </tr>\n",
       "  </thead>\n",
       "  <tbody>\n",
       "    <tr>\n",
       "      <th>6868</th>\n",
       "      <td>Immediately after renting and watching this mo...</td>\n",
       "      <td>negative</td>\n",
       "    </tr>\n",
       "    <tr>\n",
       "      <th>24016</th>\n",
       "      <td>This was a highly original decent movie, and a...</td>\n",
       "      <td>positive</td>\n",
       "    </tr>\n",
       "    <tr>\n",
       "      <th>9668</th>\n",
       "      <td>I do not watch much television and came across...</td>\n",
       "      <td>negative</td>\n",
       "    </tr>\n",
       "    <tr>\n",
       "      <th>13640</th>\n",
       "      <td>7 if you're a kid- 6 if you claim to be an adu...</td>\n",
       "      <td>positive</td>\n",
       "    </tr>\n",
       "    <tr>\n",
       "      <th>14018</th>\n",
       "      <td>I think I agree that a lot of the comments her...</td>\n",
       "      <td>negative</td>\n",
       "    </tr>\n",
       "    <tr>\n",
       "      <th>...</th>\n",
       "      <td>...</td>\n",
       "      <td>...</td>\n",
       "    </tr>\n",
       "    <tr>\n",
       "      <th>8670</th>\n",
       "      <td>Scoop *** out of **** Woody Allen is definitel...</td>\n",
       "      <td>positive</td>\n",
       "    </tr>\n",
       "    <tr>\n",
       "      <th>11839</th>\n",
       "      <td>Richard Attenborough who already given us magn...</td>\n",
       "      <td>positive</td>\n",
       "    </tr>\n",
       "    <tr>\n",
       "      <th>4013</th>\n",
       "      <td>This was different, that's for sure. Just look...</td>\n",
       "      <td>positive</td>\n",
       "    </tr>\n",
       "    <tr>\n",
       "      <th>21147</th>\n",
       "      <td>Moon Child was one of the more symbolic movies...</td>\n",
       "      <td>positive</td>\n",
       "    </tr>\n",
       "    <tr>\n",
       "      <th>695</th>\n",
       "      <td>Really bad movie. Maybe the worst I've ever se...</td>\n",
       "      <td>negative</td>\n",
       "    </tr>\n",
       "  </tbody>\n",
       "</table>\n",
       "<p>5000 rows × 2 columns</p>\n",
       "</div>"
      ],
      "text/plain": [
       "                                                  review sentiment\n",
       "6868   Immediately after renting and watching this mo...  negative\n",
       "24016  This was a highly original decent movie, and a...  positive\n",
       "9668   I do not watch much television and came across...  negative\n",
       "13640  7 if you're a kid- 6 if you claim to be an adu...  positive\n",
       "14018  I think I agree that a lot of the comments her...  negative\n",
       "...                                                  ...       ...\n",
       "8670   Scoop *** out of **** Woody Allen is definitel...  positive\n",
       "11839  Richard Attenborough who already given us magn...  positive\n",
       "4013   This was different, that's for sure. Just look...  positive\n",
       "21147  Moon Child was one of the more symbolic movies...  positive\n",
       "695    Really bad movie. Maybe the worst I've ever se...  negative\n",
       "\n",
       "[5000 rows x 2 columns]"
      ]
     },
     "execution_count": 229,
     "metadata": {},
     "output_type": "execute_result"
    }
   ],
   "source": [
    "test_set"
   ]
  },
  {
   "cell_type": "code",
   "execution_count": 230,
   "id": "1de860c4",
   "metadata": {},
   "outputs": [
    {
     "name": "stdout",
     "output_type": "stream",
     "text": [
      "Data preparation complete.\n",
      "Training samples: 20000, Test samples: 5000\n"
     ]
    }
   ],
   "source": [
    "print(\"Data preparation complete.\")\n",
    "print(f\"Training samples: {len(train_set)}, Test samples: {len(test_set)}\")"
   ]
  },
  {
   "cell_type": "markdown",
   "id": "ba229a5b",
   "metadata": {},
   "source": [
    "After splitting the movie_reviews large dataset, we will have 20,000 training data and 5,000 test data. Since each movie review has both positive and negative aspects, we can create a separate data frame by training dataset to help us calculate the frequency of positive and negative occurrences. This will help us process the data better."
   ]
  },
  {
   "cell_type": "markdown",
   "id": "28d02586",
   "metadata": {},
   "source": [
    "## 2. Counting frequency"
   ]
  },
  {
   "cell_type": "markdown",
   "id": "bc2bf30a",
   "metadata": {},
   "source": [
    "Since most of the movie reviews inside our database are made up of 26 letters, this requires us to match them by a specific value or name. We can start with an example to see how we can calculate the frequency of letter occurrence."
   ]
  },
  {
   "cell_type": "code",
   "execution_count": 231,
   "id": "a1a767a6",
   "metadata": {},
   "outputs": [],
   "source": [
    "# At first, create a string with random letters\n",
    "var = 'dnsjfhgfqeljwhrbfdqtashnlksjrhfdgaertjsehajLHWJEAnsbqudirtak'"
   ]
  },
  {
   "cell_type": "code",
   "execution_count": 232,
   "id": "436d46d2",
   "metadata": {},
   "outputs": [],
   "source": [
    "lstr = list(var)"
   ]
  },
  {
   "cell_type": "code",
   "execution_count": 233,
   "id": "a69b8ef7",
   "metadata": {},
   "outputs": [
    {
     "data": {
      "text/plain": [
       "['d',\n",
       " 'n',\n",
       " 's',\n",
       " 'j',\n",
       " 'f',\n",
       " 'h',\n",
       " 'g',\n",
       " 'f',\n",
       " 'q',\n",
       " 'e',\n",
       " 'l',\n",
       " 'j',\n",
       " 'w',\n",
       " 'h',\n",
       " 'r',\n",
       " 'b',\n",
       " 'f',\n",
       " 'd',\n",
       " 'q',\n",
       " 't',\n",
       " 'a',\n",
       " 's',\n",
       " 'h',\n",
       " 'n',\n",
       " 'l',\n",
       " 'k',\n",
       " 's',\n",
       " 'j',\n",
       " 'r',\n",
       " 'h',\n",
       " 'f',\n",
       " 'd',\n",
       " 'g',\n",
       " 'a',\n",
       " 'e',\n",
       " 'r',\n",
       " 't',\n",
       " 'j',\n",
       " 's',\n",
       " 'e',\n",
       " 'h',\n",
       " 'a',\n",
       " 'j',\n",
       " 'L',\n",
       " 'H',\n",
       " 'W',\n",
       " 'J',\n",
       " 'E',\n",
       " 'A',\n",
       " 'n',\n",
       " 's',\n",
       " 'b',\n",
       " 'q',\n",
       " 'u',\n",
       " 'd',\n",
       " 'i',\n",
       " 'r',\n",
       " 't',\n",
       " 'a',\n",
       " 'k']"
      ]
     },
     "execution_count": 233,
     "metadata": {},
     "output_type": "execute_result"
    }
   ],
   "source": [
    "# we try to use a list to Visualize the string\n",
    "lstr"
   ]
  },
  {
   "cell_type": "markdown",
   "id": "c3545d47",
   "metadata": {},
   "source": [
    "Then we can use the $Counter$ function from the $collection$ module. It can help us take in a list and returns a dictionary where the keys match the unique entries. \n",
    "We can use this function to know the frequency of each word. Also, it could help us to deal with the positive reviews words and negative review words in our project."
   ]
  },
  {
   "cell_type": "code",
   "execution_count": 234,
   "id": "d880d624",
   "metadata": {},
   "outputs": [],
   "source": [
    "# Import the \"collection\" module\n",
    "from collections import Counter"
   ]
  },
  {
   "cell_type": "code",
   "execution_count": 235,
   "id": "61575726",
   "metadata": {},
   "outputs": [
    {
     "data": {
      "text/plain": [
       "Counter({'s': 5,\n",
       "         'j': 5,\n",
       "         'h': 5,\n",
       "         'd': 4,\n",
       "         'f': 4,\n",
       "         'r': 4,\n",
       "         'a': 4,\n",
       "         'n': 3,\n",
       "         'q': 3,\n",
       "         'e': 3,\n",
       "         't': 3,\n",
       "         'g': 2,\n",
       "         'l': 2,\n",
       "         'b': 2,\n",
       "         'k': 2,\n",
       "         'w': 1,\n",
       "         'L': 1,\n",
       "         'H': 1,\n",
       "         'W': 1,\n",
       "         'J': 1,\n",
       "         'E': 1,\n",
       "         'A': 1,\n",
       "         'u': 1,\n",
       "         'i': 1})"
      ]
     },
     "execution_count": 235,
     "metadata": {},
     "output_type": "execute_result"
    }
   ],
   "source": [
    "# Then it will show the number match each value\n",
    "Counter(lstr)"
   ]
  },
  {
   "cell_type": "markdown",
   "id": "cc287ae6",
   "metadata": {},
   "source": [
    "By looking at it we can see that the frequency of occurrences is ranked from highest to lowest, so we can use this same method to count and observe our movie-reviews. We can try to count the words in a random review, I can pick the any position review in our dataset."
   ]
  },
  {
   "cell_type": "code",
   "execution_count": 236,
   "id": "820a50d8",
   "metadata": {},
   "outputs": [],
   "source": [
    "Negreview = movs.iloc[71]['review']"
   ]
  },
  {
   "cell_type": "code",
   "execution_count": 237,
   "id": "a2053474",
   "metadata": {},
   "outputs": [
    {
     "data": {
      "text/plain": [
       "\"First of all, f117 is not high tech any more and it is not a fighter aircraft.<br /><br />Secondly, the f14's and f18's cannot change their appearances; they are not transformers. <br /><br />Thirdly, the f16 has only one m61 cannon, not two. <br /><br />Last but not the least, at the end of the film, Seagle selected sidewinder missile. But somehow when he pulled the trigger, the actual missile fired turned out to be a maverick. As I have the experience of seeing f18's and f14's being mysteriously transformed into f16's, this small transformation of missiles is not a big surprise to me. However, there is still one question I have to ask: How did they manage to use an air to ground missile to shoot down a flying f16...<br /><br />When students hand in really bad work, teachers assign 0's. Now I think for the sake of properly marking this film, IMDb should seriously consider adding a '0/10' option. Otherwise, it is not fair for those who receive 1 out of 10...\""
      ]
     },
     "execution_count": 237,
     "metadata": {},
     "output_type": "execute_result"
    }
   ],
   "source": [
    "Negreview"
   ]
  },
  {
   "cell_type": "markdown",
   "id": "ca868961",
   "metadata": {},
   "source": [
    "When I randomly chose a review to show, we can see that there are a lot of different forms of text in this review, and there's no way for us to see the full review directly. At the same time, we need to know whether this review is positive or negative. Therefore, we can create an equation which can help us to count the frequency of text appearances using the method calculated earlier."
   ]
  },
  {
   "cell_type": "code",
   "execution_count": 238,
   "id": "d9da6ce3",
   "metadata": {},
   "outputs": [],
   "source": [
    "def ReviewToList(RevStr):\n",
    "    # transfer each letter to the lower letter\n",
    "    lowcasestr = RevStr.lower()\n",
    "    # use the word bounday to spearte the each word from the reviews\n",
    "    words = re.findall(r\"\\w+'?\\w*\",lowcasestr)\n",
    "    return words"
   ]
  },
  {
   "cell_type": "code",
   "execution_count": 239,
   "id": "e37557cf",
   "metadata": {},
   "outputs": [],
   "source": [
    "NegWords = ReviewToList(Negreview)"
   ]
  },
  {
   "cell_type": "code",
   "execution_count": 240,
   "id": "dd0856d3",
   "metadata": {},
   "outputs": [],
   "source": [
    "# use the counter function from collection modele to find the frequency of each letter\n",
    "wordcounts = Counter(NegWords)"
   ]
  },
  {
   "cell_type": "code",
   "execution_count": 241,
   "id": "48af363b",
   "metadata": {},
   "outputs": [
    {
     "data": {
      "text/plain": [
       "Counter({'the': 9,\n",
       "         'br': 8,\n",
       "         'not': 7,\n",
       "         'of': 6,\n",
       "         'to': 6,\n",
       "         'is': 5,\n",
       "         'a': 5,\n",
       "         'and': 3,\n",
       "         'missile': 3,\n",
       "         'i': 3,\n",
       "         'it': 2,\n",
       "         \"f14's\": 2,\n",
       "         \"f18's\": 2,\n",
       "         'they': 2,\n",
       "         'f16': 2,\n",
       "         'one': 2,\n",
       "         'but': 2,\n",
       "         'film': 2,\n",
       "         'when': 2,\n",
       "         'out': 2,\n",
       "         'have': 2,\n",
       "         'this': 2,\n",
       "         'for': 2,\n",
       "         'first': 1,\n",
       "         'all': 1,\n",
       "         'f117': 1,\n",
       "         'high': 1,\n",
       "         'tech': 1,\n",
       "         'any': 1,\n",
       "         'more': 1,\n",
       "         'fighter': 1,\n",
       "         'aircraft': 1,\n",
       "         'secondly': 1,\n",
       "         'cannot': 1,\n",
       "         'change': 1,\n",
       "         'their': 1,\n",
       "         'appearances': 1,\n",
       "         'are': 1,\n",
       "         'transformers': 1,\n",
       "         'thirdly': 1,\n",
       "         'has': 1,\n",
       "         'only': 1,\n",
       "         'm61': 1,\n",
       "         'cannon': 1,\n",
       "         'two': 1,\n",
       "         'last': 1,\n",
       "         'least': 1,\n",
       "         'at': 1,\n",
       "         'end': 1,\n",
       "         'seagle': 1,\n",
       "         'selected': 1,\n",
       "         'sidewinder': 1,\n",
       "         'somehow': 1,\n",
       "         'he': 1,\n",
       "         'pulled': 1,\n",
       "         'trigger': 1,\n",
       "         'actual': 1,\n",
       "         'fired': 1,\n",
       "         'turned': 1,\n",
       "         'be': 1,\n",
       "         'maverick': 1,\n",
       "         'as': 1,\n",
       "         'experience': 1,\n",
       "         'seeing': 1,\n",
       "         'being': 1,\n",
       "         'mysteriously': 1,\n",
       "         'transformed': 1,\n",
       "         'into': 1,\n",
       "         \"f16's\": 1,\n",
       "         'small': 1,\n",
       "         'transformation': 1,\n",
       "         'missiles': 1,\n",
       "         'big': 1,\n",
       "         'surprise': 1,\n",
       "         'me': 1,\n",
       "         'however': 1,\n",
       "         'there': 1,\n",
       "         'still': 1,\n",
       "         'question': 1,\n",
       "         'ask': 1,\n",
       "         'how': 1,\n",
       "         'did': 1,\n",
       "         'manage': 1,\n",
       "         'use': 1,\n",
       "         'an': 1,\n",
       "         'air': 1,\n",
       "         'ground': 1,\n",
       "         'shoot': 1,\n",
       "         'down': 1,\n",
       "         'flying': 1,\n",
       "         'students': 1,\n",
       "         'hand': 1,\n",
       "         'in': 1,\n",
       "         'really': 1,\n",
       "         'bad': 1,\n",
       "         'work': 1,\n",
       "         'teachers': 1,\n",
       "         'assign': 1,\n",
       "         \"0's\": 1,\n",
       "         'now': 1,\n",
       "         'think': 1,\n",
       "         'sake': 1,\n",
       "         'properly': 1,\n",
       "         'marking': 1,\n",
       "         'imdb': 1,\n",
       "         'should': 1,\n",
       "         'seriously': 1,\n",
       "         'consider': 1,\n",
       "         'adding': 1,\n",
       "         '0': 1,\n",
       "         \"10'\": 1,\n",
       "         'option': 1,\n",
       "         'otherwise': 1,\n",
       "         'fair': 1,\n",
       "         'those': 1,\n",
       "         'who': 1,\n",
       "         'receive': 1,\n",
       "         '1': 1,\n",
       "         '10': 1})"
      ]
     },
     "execution_count": 241,
     "metadata": {},
     "output_type": "execute_result"
    }
   ],
   "source": [
    "wordcounts"
   ]
  },
  {
   "cell_type": "markdown",
   "id": "a64a31fa",
   "metadata": {},
   "source": [
    "## 2.2 Create dataframes for reviews"
   ]
  },
  {
   "cell_type": "markdown",
   "id": "c22a65d5",
   "metadata": {},
   "source": [
    "We're going to create two dataframes, which will help us to better differentiate the positive word from the negative word in a good way. And we'll also use “Laplace smoothing” to help us with the subsequent dataframe processing."
   ]
  },
  {
   "cell_type": "code",
   "execution_count": 242,
   "id": "a514f902",
   "metadata": {},
   "outputs": [],
   "source": [
    "negdf = pd.DataFrame({'Negative':wordcounts})"
   ]
  },
  {
   "cell_type": "code",
   "execution_count": 243,
   "id": "89e8d8b9",
   "metadata": {},
   "outputs": [
    {
     "data": {
      "text/html": [
       "<div>\n",
       "<style scoped>\n",
       "    .dataframe tbody tr th:only-of-type {\n",
       "        vertical-align: middle;\n",
       "    }\n",
       "\n",
       "    .dataframe tbody tr th {\n",
       "        vertical-align: top;\n",
       "    }\n",
       "\n",
       "    .dataframe thead th {\n",
       "        text-align: right;\n",
       "    }\n",
       "</style>\n",
       "<table border=\"1\" class=\"dataframe\">\n",
       "  <thead>\n",
       "    <tr style=\"text-align: right;\">\n",
       "      <th></th>\n",
       "      <th>Negative</th>\n",
       "    </tr>\n",
       "  </thead>\n",
       "  <tbody>\n",
       "    <tr>\n",
       "      <th>0</th>\n",
       "      <td>1</td>\n",
       "    </tr>\n",
       "    <tr>\n",
       "      <th>0's</th>\n",
       "      <td>1</td>\n",
       "    </tr>\n",
       "    <tr>\n",
       "      <th>1</th>\n",
       "      <td>1</td>\n",
       "    </tr>\n",
       "    <tr>\n",
       "      <th>10</th>\n",
       "      <td>1</td>\n",
       "    </tr>\n",
       "    <tr>\n",
       "      <th>10'</th>\n",
       "      <td>1</td>\n",
       "    </tr>\n",
       "    <tr>\n",
       "      <th>...</th>\n",
       "      <td>...</td>\n",
       "    </tr>\n",
       "    <tr>\n",
       "      <th>two</th>\n",
       "      <td>1</td>\n",
       "    </tr>\n",
       "    <tr>\n",
       "      <th>use</th>\n",
       "      <td>1</td>\n",
       "    </tr>\n",
       "    <tr>\n",
       "      <th>when</th>\n",
       "      <td>2</td>\n",
       "    </tr>\n",
       "    <tr>\n",
       "      <th>who</th>\n",
       "      <td>1</td>\n",
       "    </tr>\n",
       "    <tr>\n",
       "      <th>work</th>\n",
       "      <td>1</td>\n",
       "    </tr>\n",
       "  </tbody>\n",
       "</table>\n",
       "<p>119 rows × 1 columns</p>\n",
       "</div>"
      ],
      "text/plain": [
       "      Negative\n",
       "0            1\n",
       "0's          1\n",
       "1            1\n",
       "10           1\n",
       "10'          1\n",
       "...        ...\n",
       "two          1\n",
       "use          1\n",
       "when         2\n",
       "who          1\n",
       "work         1\n",
       "\n",
       "[119 rows x 1 columns]"
      ]
     },
     "execution_count": 243,
     "metadata": {},
     "output_type": "execute_result"
    }
   ],
   "source": [
    "negdf"
   ]
  },
  {
   "cell_type": "markdown",
   "id": "5b337d92",
   "metadata": {},
   "source": [
    "We can choose to arrange the frequency of occurrence of words from high to low."
   ]
  },
  {
   "cell_type": "code",
   "execution_count": 244,
   "id": "3279edcb",
   "metadata": {},
   "outputs": [],
   "source": [
    "negdf.sort_values(by='Negative',ascending=False,inplace=True)"
   ]
  },
  {
   "cell_type": "code",
   "execution_count": 245,
   "id": "9e3f8640",
   "metadata": {},
   "outputs": [
    {
     "data": {
      "text/html": [
       "<div>\n",
       "<style scoped>\n",
       "    .dataframe tbody tr th:only-of-type {\n",
       "        vertical-align: middle;\n",
       "    }\n",
       "\n",
       "    .dataframe tbody tr th {\n",
       "        vertical-align: top;\n",
       "    }\n",
       "\n",
       "    .dataframe thead th {\n",
       "        text-align: right;\n",
       "    }\n",
       "</style>\n",
       "<table border=\"1\" class=\"dataframe\">\n",
       "  <thead>\n",
       "    <tr style=\"text-align: right;\">\n",
       "      <th></th>\n",
       "      <th>Negative</th>\n",
       "    </tr>\n",
       "  </thead>\n",
       "  <tbody>\n",
       "    <tr>\n",
       "      <th>the</th>\n",
       "      <td>9</td>\n",
       "    </tr>\n",
       "    <tr>\n",
       "      <th>br</th>\n",
       "      <td>8</td>\n",
       "    </tr>\n",
       "    <tr>\n",
       "      <th>not</th>\n",
       "      <td>7</td>\n",
       "    </tr>\n",
       "    <tr>\n",
       "      <th>of</th>\n",
       "      <td>6</td>\n",
       "    </tr>\n",
       "    <tr>\n",
       "      <th>to</th>\n",
       "      <td>6</td>\n",
       "    </tr>\n",
       "    <tr>\n",
       "      <th>...</th>\n",
       "      <td>...</td>\n",
       "    </tr>\n",
       "    <tr>\n",
       "      <th>fair</th>\n",
       "      <td>1</td>\n",
       "    </tr>\n",
       "    <tr>\n",
       "      <th>f16's</th>\n",
       "      <td>1</td>\n",
       "    </tr>\n",
       "    <tr>\n",
       "      <th>f117</th>\n",
       "      <td>1</td>\n",
       "    </tr>\n",
       "    <tr>\n",
       "      <th>experience</th>\n",
       "      <td>1</td>\n",
       "    </tr>\n",
       "    <tr>\n",
       "      <th>work</th>\n",
       "      <td>1</td>\n",
       "    </tr>\n",
       "  </tbody>\n",
       "</table>\n",
       "<p>119 rows × 1 columns</p>\n",
       "</div>"
      ],
      "text/plain": [
       "            Negative\n",
       "the                9\n",
       "br                 8\n",
       "not                7\n",
       "of                 6\n",
       "to                 6\n",
       "...              ...\n",
       "fair               1\n",
       "f16's              1\n",
       "f117               1\n",
       "experience         1\n",
       "work               1\n",
       "\n",
       "[119 rows x 1 columns]"
      ]
     },
     "execution_count": 245,
     "metadata": {},
     "output_type": "execute_result"
    }
   ],
   "source": [
    "negdf"
   ]
  },
  {
   "cell_type": "markdown",
   "id": "a200d11e",
   "metadata": {},
   "source": [
    "At this time, we can find that a comment may contain not only negative or positive words, but also some words that usually appear too often, such as “And”, “Or”, “I ”, “am” and so on, so we will use the “step_words” file to eliminate some useless ones to help us filter better."
   ]
  },
  {
   "cell_type": "code",
   "execution_count": 246,
   "id": "0fa93d1b",
   "metadata": {},
   "outputs": [],
   "source": [
    "# Firstly, read the \"stepwords\"file\n",
    "File = open('stopwords.txt')\n",
    "stopwordstr = File.read()\n",
    "File.close()"
   ]
  },
  {
   "cell_type": "code",
   "execution_count": 247,
   "id": "3e30e230",
   "metadata": {},
   "outputs": [
    {
     "data": {
      "text/plain": [
       "'a,able,about,across,after,all,almost,also,am,among,an,and,any,are,as,at,be,because,been,but,by,can,cannot,could,dear,did,do,does,either,else,ever,every,for,from,get,got,had,has,have,he,her,hers,him,his,how,however,i,if,in,into,is,it,its,just,least,let,like,likely,may,me,might,most,must,my,neither,no,nor,not,of,off,often,on,only,or,other,our,own,rather,said,say,says,she,should,since,so,some,than,that,the,their,them,then,there,these,they,this,tis,to,too,twas,us,wants,was,we,were,what,when,where,which,while,who,whom,why,will,with,would,yet,you,your'"
      ]
     },
     "execution_count": 247,
     "metadata": {},
     "output_type": "execute_result"
    }
   ],
   "source": [
    "stopwordstr"
   ]
  },
  {
   "cell_type": "markdown",
   "id": "ec0d609f",
   "metadata": {},
   "source": [
    "We can see here are a lot common words we need to take off them from the reviews. Then, we will try use \",\" to split the each words."
   ]
  },
  {
   "cell_type": "code",
   "execution_count": 248,
   "id": "41cc6fde",
   "metadata": {},
   "outputs": [],
   "source": [
    "stopwordlst = stopwordstr.split(',')"
   ]
  },
  {
   "cell_type": "code",
   "execution_count": 249,
   "id": "90d23e0e",
   "metadata": {},
   "outputs": [
    {
     "data": {
      "text/plain": [
       "['a',\n",
       " 'able',\n",
       " 'about',\n",
       " 'across',\n",
       " 'after',\n",
       " 'all',\n",
       " 'almost',\n",
       " 'also',\n",
       " 'am',\n",
       " 'among',\n",
       " 'an',\n",
       " 'and',\n",
       " 'any',\n",
       " 'are',\n",
       " 'as',\n",
       " 'at',\n",
       " 'be',\n",
       " 'because',\n",
       " 'been',\n",
       " 'but',\n",
       " 'by',\n",
       " 'can',\n",
       " 'cannot',\n",
       " 'could',\n",
       " 'dear',\n",
       " 'did',\n",
       " 'do',\n",
       " 'does',\n",
       " 'either',\n",
       " 'else',\n",
       " 'ever',\n",
       " 'every',\n",
       " 'for',\n",
       " 'from',\n",
       " 'get',\n",
       " 'got',\n",
       " 'had',\n",
       " 'has',\n",
       " 'have',\n",
       " 'he',\n",
       " 'her',\n",
       " 'hers',\n",
       " 'him',\n",
       " 'his',\n",
       " 'how',\n",
       " 'however',\n",
       " 'i',\n",
       " 'if',\n",
       " 'in',\n",
       " 'into',\n",
       " 'is',\n",
       " 'it',\n",
       " 'its',\n",
       " 'just',\n",
       " 'least',\n",
       " 'let',\n",
       " 'like',\n",
       " 'likely',\n",
       " 'may',\n",
       " 'me',\n",
       " 'might',\n",
       " 'most',\n",
       " 'must',\n",
       " 'my',\n",
       " 'neither',\n",
       " 'no',\n",
       " 'nor',\n",
       " 'not',\n",
       " 'of',\n",
       " 'off',\n",
       " 'often',\n",
       " 'on',\n",
       " 'only',\n",
       " 'or',\n",
       " 'other',\n",
       " 'our',\n",
       " 'own',\n",
       " 'rather',\n",
       " 'said',\n",
       " 'say',\n",
       " 'says',\n",
       " 'she',\n",
       " 'should',\n",
       " 'since',\n",
       " 'so',\n",
       " 'some',\n",
       " 'than',\n",
       " 'that',\n",
       " 'the',\n",
       " 'their',\n",
       " 'them',\n",
       " 'then',\n",
       " 'there',\n",
       " 'these',\n",
       " 'they',\n",
       " 'this',\n",
       " 'tis',\n",
       " 'to',\n",
       " 'too',\n",
       " 'twas',\n",
       " 'us',\n",
       " 'wants',\n",
       " 'was',\n",
       " 'we',\n",
       " 'were',\n",
       " 'what',\n",
       " 'when',\n",
       " 'where',\n",
       " 'which',\n",
       " 'while',\n",
       " 'who',\n",
       " 'whom',\n",
       " 'why',\n",
       " 'will',\n",
       " 'with',\n",
       " 'would',\n",
       " 'yet',\n",
       " 'you',\n",
       " 'your']"
      ]
     },
     "execution_count": 249,
     "metadata": {},
     "output_type": "execute_result"
    }
   ],
   "source": [
    "stopwordlst"
   ]
  },
  {
   "cell_type": "code",
   "execution_count": 250,
   "id": "cfa512f9",
   "metadata": {},
   "outputs": [],
   "source": [
    "# Then we can call the column from the train_set to get the positive/negative reviews\n",
    "pos_reviews = train_set[train_set['sentiment'] == 'positive']['review']\n",
    "neg_reviews = train_set[train_set['sentiment'] == 'negative']['review']"
   ]
  },
  {
   "cell_type": "code",
   "execution_count": 251,
   "id": "459af371",
   "metadata": {},
   "outputs": [
    {
     "data": {
      "text/plain": [
       "1020     From the beginning of the movie I had a feelin...\n",
       "1533     Recap: Full moon. A creature, a huge werewolf,...\n",
       "483      Okay. So I just got back. Before I start my re...\n",
       "19370    This film is so bad I can't believe it was act...\n",
       "2712     I watched the movie, and was dismayed to say t...\n",
       "                               ...                        \n",
       "21575    What made the original Killer Tomatoes fun was...\n",
       "5390     Perhaps I'm out of date or just don't know wha...\n",
       "860      how can a director that makes such great films...\n",
       "15795    Weak plot, unlikely car malfunction, and helpl...\n",
       "23654    I have to agree with most everyone's opinion t...\n",
       "Name: review, Length: 9971, dtype: object"
      ]
     },
     "execution_count": 251,
     "metadata": {},
     "output_type": "execute_result"
    }
   ],
   "source": [
    "neg_reviews"
   ]
  },
  {
   "cell_type": "code",
   "execution_count": 252,
   "id": "03120d03",
   "metadata": {},
   "outputs": [
    {
     "data": {
      "text/plain": [
       "23311    I think that the movie was kind of weird. In t...\n",
       "23623    This movie was hysterical. I haven't laughed t...\n",
       "12645    This 1953 Sam Fuller movie contains some of hi...\n",
       "3518     As a community theater actor who works hard at...\n",
       "12667    Somewhere near the bottom of the film studio l...\n",
       "                               ...                        \n",
       "16023    Got to this show late - believe it was the 3rd...\n",
       "11363    Musings: Pure delight from beginning to end. N...\n",
       "14423    CRY FREEDOM is an excellent primer for those w...\n",
       "16850    Possible spoilers re: late-appearing cameos <b...\n",
       "6265     WOW! What - a - movie !!!!!!!!!!! I'm not at a...\n",
       "Name: review, Length: 10029, dtype: object"
      ]
     },
     "execution_count": 252,
     "metadata": {},
     "output_type": "execute_result"
    }
   ],
   "source": [
    "pos_reviews"
   ]
  },
  {
   "cell_type": "markdown",
   "id": "dcb1d6d0",
   "metadata": {},
   "source": [
    "When we have shown positive, and negative reviews, at this point we are not removing step words from these two kinds of reviews. Before removing, we create a data frame of the frequencies of non-trivial words."
   ]
  },
  {
   "cell_type": "markdown",
   "id": "66e2827e",
   "metadata": {},
   "source": [
    "## 2.3 Combine two DataFrames into one"
   ]
  },
  {
   "cell_type": "code",
   "execution_count": 253,
   "id": "d5d16384",
   "metadata": {},
   "outputs": [],
   "source": [
    "# Text cleaning function\n",
    "def clean_text(text, stopwords):\n",
    "    # Change the all text to lowercase\n",
    "    text = text.lower()   \n",
    "    # we will remove everything except the words\n",
    "    text = re.sub(f'[{re.escape(string.punctuation)}]', '', text)\n",
    "    text = re.sub(r'<[^>]+>', '', text)  \n",
    "    cleanText = [word for word in re.findall(r\"\\w+'?\\w*\", text) if word not in stopwords]\n",
    "    return cleanText"
   ]
  },
  {
   "cell_type": "code",
   "execution_count": null,
   "id": "e7fde291",
   "metadata": {},
   "outputs": [],
   "source": []
  },
  {
   "cell_type": "code",
   "execution_count": 295,
   "id": "411a927c",
   "metadata": {},
   "outputs": [
    {
     "name": "stdout",
     "output_type": "stream",
     "text": [
      "Preprocessing positive reviews:\n",
      "Preprocessing negative reviews:\n"
     ]
    }
   ],
   "source": [
    "def build_voc(Good_reviews):\n",
    "    \n",
    "    all_words = [word for review in Good_reviews for word in review]\n",
    "    return Counter(all_words)\n",
    "\n",
    "# Separate positive and negative reviews\n",
    "pos_reviews = train_set[train_set['sentiment'] == 'positive']['review']\n",
    "neg_reviews = train_set[train_set['sentiment'] == 'negative']['review']\n",
    "\n",
    "# Preprocess all reviews with clear text (no HTML tags, no uppercase..)\n",
    "print(\"Preprocessing positive reviews:\")\n",
    "pos_clear = [clean_text(review, stopwordlst) for review in pos_reviews]\n",
    "print(\"Preprocessing negative reviews:\")\n",
    "neg_clear = [clean_text(review, stopwordlst) for review in neg_reviews]\n",
    "\n",
    "\n"
   ]
  },
  {
   "cell_type": "code",
   "execution_count": 296,
   "id": "76a68e1d",
   "metadata": {},
   "outputs": [],
   "source": [
    "# Build vocabularies\n",
    "pos_vocab = build_voc(pos_clear)\n",
    "neg_vocab = build_voc(neg_clear)"
   ]
  },
  {
   "cell_type": "code",
   "execution_count": 297,
   "id": "f31416c3",
   "metadata": {},
   "outputs": [],
   "source": [
    "# Create two DataFrames and show negative and positive reviews\n",
    "pos_df = pd.DataFrame.from_dict(pos_vocab, orient='index', columns=['count'])\n",
    "neg_df = pd.DataFrame.from_dict(neg_vocab, orient='index', columns=['count'])\n"
   ]
  },
  {
   "cell_type": "code",
   "execution_count": 298,
   "id": "f9447b63",
   "metadata": {},
   "outputs": [
    {
     "data": {
      "text/html": [
       "<div>\n",
       "<style scoped>\n",
       "    .dataframe tbody tr th:only-of-type {\n",
       "        vertical-align: middle;\n",
       "    }\n",
       "\n",
       "    .dataframe tbody tr th {\n",
       "        vertical-align: top;\n",
       "    }\n",
       "\n",
       "    .dataframe thead th {\n",
       "        text-align: right;\n",
       "    }\n",
       "</style>\n",
       "<table border=\"1\" class=\"dataframe\">\n",
       "  <thead>\n",
       "    <tr style=\"text-align: right;\">\n",
       "      <th></th>\n",
       "      <th>count</th>\n",
       "    </tr>\n",
       "  </thead>\n",
       "  <tbody>\n",
       "    <tr>\n",
       "      <th>think</th>\n",
       "      <td>2886</td>\n",
       "    </tr>\n",
       "    <tr>\n",
       "      <th>movie</th>\n",
       "      <td>14711</td>\n",
       "    </tr>\n",
       "    <tr>\n",
       "      <th>kind</th>\n",
       "      <td>980</td>\n",
       "    </tr>\n",
       "    <tr>\n",
       "      <th>weird</th>\n",
       "      <td>234</td>\n",
       "    </tr>\n",
       "    <tr>\n",
       "      <th>opening</th>\n",
       "      <td>366</td>\n",
       "    </tr>\n",
       "    <tr>\n",
       "      <th>...</th>\n",
       "      <td>...</td>\n",
       "    </tr>\n",
       "    <tr>\n",
       "      <th>britsbr</th>\n",
       "      <td>1</td>\n",
       "    </tr>\n",
       "    <tr>\n",
       "      <th>provisional</th>\n",
       "      <td>1</td>\n",
       "    </tr>\n",
       "    <tr>\n",
       "      <th>actorbut</th>\n",
       "      <td>1</td>\n",
       "    </tr>\n",
       "    <tr>\n",
       "      <th>actingwowit</th>\n",
       "      <td>1</td>\n",
       "    </tr>\n",
       "    <tr>\n",
       "      <th>jaden</th>\n",
       "      <td>1</td>\n",
       "    </tr>\n",
       "  </tbody>\n",
       "</table>\n",
       "<p>73439 rows × 1 columns</p>\n",
       "</div>"
      ],
      "text/plain": [
       "             count\n",
       "think         2886\n",
       "movie        14711\n",
       "kind           980\n",
       "weird          234\n",
       "opening        366\n",
       "...            ...\n",
       "britsbr          1\n",
       "provisional      1\n",
       "actorbut         1\n",
       "actingwowit      1\n",
       "jaden            1\n",
       "\n",
       "[73439 rows x 1 columns]"
      ]
     },
     "execution_count": 298,
     "metadata": {},
     "output_type": "execute_result"
    }
   ],
   "source": [
    "pos_df"
   ]
  },
  {
   "cell_type": "code",
   "execution_count": 299,
   "id": "e98060f5",
   "metadata": {},
   "outputs": [
    {
     "data": {
      "text/html": [
       "<div>\n",
       "<style scoped>\n",
       "    .dataframe tbody tr th:only-of-type {\n",
       "        vertical-align: middle;\n",
       "    }\n",
       "\n",
       "    .dataframe tbody tr th {\n",
       "        vertical-align: top;\n",
       "    }\n",
       "\n",
       "    .dataframe thead th {\n",
       "        text-align: right;\n",
       "    }\n",
       "</style>\n",
       "<table border=\"1\" class=\"dataframe\">\n",
       "  <thead>\n",
       "    <tr style=\"text-align: right;\">\n",
       "      <th></th>\n",
       "      <th>count</th>\n",
       "    </tr>\n",
       "  </thead>\n",
       "  <tbody>\n",
       "    <tr>\n",
       "      <th>beginning</th>\n",
       "      <td>501</td>\n",
       "    </tr>\n",
       "    <tr>\n",
       "      <th>movie</th>\n",
       "      <td>18742</td>\n",
       "    </tr>\n",
       "    <tr>\n",
       "      <th>feeling</th>\n",
       "      <td>405</td>\n",
       "    </tr>\n",
       "    <tr>\n",
       "      <th>another</th>\n",
       "      <td>1749</td>\n",
       "    </tr>\n",
       "    <tr>\n",
       "      <th>jasons</th>\n",
       "      <td>3</td>\n",
       "    </tr>\n",
       "    <tr>\n",
       "      <th>...</th>\n",
       "      <td>...</td>\n",
       "    </tr>\n",
       "    <tr>\n",
       "      <th>writtenthe</th>\n",
       "      <td>1</td>\n",
       "    </tr>\n",
       "    <tr>\n",
       "      <th>performeri</th>\n",
       "      <td>1</td>\n",
       "    </tr>\n",
       "    <tr>\n",
       "      <th>adair</th>\n",
       "      <td>1</td>\n",
       "    </tr>\n",
       "    <tr>\n",
       "      <th>manneri</th>\n",
       "      <td>1</td>\n",
       "    </tr>\n",
       "    <tr>\n",
       "      <th>graderi</th>\n",
       "      <td>1</td>\n",
       "    </tr>\n",
       "  </tbody>\n",
       "</table>\n",
       "<p>71147 rows × 1 columns</p>\n",
       "</div>"
      ],
      "text/plain": [
       "            count\n",
       "beginning     501\n",
       "movie       18742\n",
       "feeling       405\n",
       "another      1749\n",
       "jasons          3\n",
       "...           ...\n",
       "writtenthe      1\n",
       "performeri      1\n",
       "adair           1\n",
       "manneri         1\n",
       "graderi         1\n",
       "\n",
       "[71147 rows x 1 columns]"
      ]
     },
     "execution_count": 299,
     "metadata": {},
     "output_type": "execute_result"
    }
   ],
   "source": [
    "neg_df"
   ]
  },
  {
   "cell_type": "code",
   "execution_count": 301,
   "id": "1f7ab118",
   "metadata": {},
   "outputs": [
    {
     "name": "stdout",
     "output_type": "stream",
     "text": [
      "\n",
      "Voc Statistics:\n",
      "Positive voc size: 73439\n",
      "Negative voc size: 71147\n",
      "Most common positive words:\n",
      "       count\n",
      "br     22069\n",
      "film   15971\n",
      "movie  14711\n",
      "one    10557\n",
      "very    6705\n",
      "Most common negative words:\n",
      "       count\n",
      "br     23709\n",
      "movie  18742\n",
      "film   14166\n",
      "one     9920\n",
      "out     6811\n"
     ]
    }
   ],
   "source": [
    "# Display some stats for what we need\n",
    "print(\"\\nVoc Statistics:\")\n",
    "# At first we can show the negative and positive reviews with clear text\n",
    "print(f\"Positive voc size: {len(pos_df)}\")\n",
    "print(f\"Negative voc size: {len(neg_df)}\")\n",
    "# Then we will use the counting method before to count the frequency\n",
    "print(f\"Most common positive words:\\n{pos_df.nlargest(5, 'count')}\")\n",
    "print(f\"Most common negative words:\\n{neg_df.nlargest(5, 'count')}\")"
   ]
  },
  {
   "cell_type": "markdown",
   "id": "6638a346",
   "metadata": {},
   "source": [
    "As a result, we can observe the data above. It could show us what is the common positive words and what is the common \n",
    "negative words."
   ]
  },
  {
   "cell_type": "markdown",
   "id": "003bd49e",
   "metadata": {},
   "source": [
    "## 2.3.2 Laplace Smoothing"
   ]
  },
  {
   "cell_type": "markdown",
   "id": "7c81b2b4",
   "metadata": {},
   "source": [
    "Before applying Laplace smoothing, we need to understand what Laplace smoothing is and how to apply it.\n",
    "Laplace smoothing is a theorem in applied statistics and is commonly used as a technique for smoothing data so that false predictions and evaluations due to certain values appearing 0 times can be eliminated or avoided. Therefore, we will use Laplace smoothing to avoid problems by adding 1 to each row of the data frame."
   ]
  },
  {
   "cell_type": "code",
   "execution_count": 288,
   "id": "b8baf968",
   "metadata": {},
   "outputs": [],
   "source": [
    "movs.drop(stopwordlst,inplace=True,errors='ignore')"
   ]
  },
  {
   "cell_type": "code",
   "execution_count": 289,
   "id": "367d1693",
   "metadata": {},
   "outputs": [
    {
     "data": {
      "text/html": [
       "<div>\n",
       "<style scoped>\n",
       "    .dataframe tbody tr th:only-of-type {\n",
       "        vertical-align: middle;\n",
       "    }\n",
       "\n",
       "    .dataframe tbody tr th {\n",
       "        vertical-align: top;\n",
       "    }\n",
       "\n",
       "    .dataframe thead th {\n",
       "        text-align: right;\n",
       "    }\n",
       "</style>\n",
       "<table border=\"1\" class=\"dataframe\">\n",
       "  <thead>\n",
       "    <tr style=\"text-align: right;\">\n",
       "      <th></th>\n",
       "      <th>review</th>\n",
       "      <th>sentiment</th>\n",
       "    </tr>\n",
       "  </thead>\n",
       "  <tbody>\n",
       "    <tr>\n",
       "      <th>0</th>\n",
       "      <td>This film is absolutely awful, but nevertheles...</td>\n",
       "      <td>negative</td>\n",
       "    </tr>\n",
       "    <tr>\n",
       "      <th>1</th>\n",
       "      <td>Well since seeing part's 1 through 3 I can hon...</td>\n",
       "      <td>negative</td>\n",
       "    </tr>\n",
       "    <tr>\n",
       "      <th>2</th>\n",
       "      <td>I got to see this film at a preview and was da...</td>\n",
       "      <td>positive</td>\n",
       "    </tr>\n",
       "    <tr>\n",
       "      <th>3</th>\n",
       "      <td>This adaptation positively butchers a classic ...</td>\n",
       "      <td>negative</td>\n",
       "    </tr>\n",
       "    <tr>\n",
       "      <th>4</th>\n",
       "      <td>Råzone is an awful movie! It is so simple. It ...</td>\n",
       "      <td>negative</td>\n",
       "    </tr>\n",
       "    <tr>\n",
       "      <th>...</th>\n",
       "      <td>...</td>\n",
       "      <td>...</td>\n",
       "    </tr>\n",
       "    <tr>\n",
       "      <th>24995</th>\n",
       "      <td>With this movie being the only Dirty Harry mov...</td>\n",
       "      <td>positive</td>\n",
       "    </tr>\n",
       "    <tr>\n",
       "      <th>24996</th>\n",
       "      <td>Any screen adaptation of a John Grisham story ...</td>\n",
       "      <td>positive</td>\n",
       "    </tr>\n",
       "    <tr>\n",
       "      <th>24997</th>\n",
       "      <td>This film captured my heart from the very begi...</td>\n",
       "      <td>positive</td>\n",
       "    </tr>\n",
       "    <tr>\n",
       "      <th>24998</th>\n",
       "      <td>A deplorable social condition triggers off the...</td>\n",
       "      <td>positive</td>\n",
       "    </tr>\n",
       "    <tr>\n",
       "      <th>24999</th>\n",
       "      <td>Always enjoy the great acting of Drew Barrymor...</td>\n",
       "      <td>positive</td>\n",
       "    </tr>\n",
       "  </tbody>\n",
       "</table>\n",
       "<p>25000 rows × 2 columns</p>\n",
       "</div>"
      ],
      "text/plain": [
       "                                                  review sentiment\n",
       "0      This film is absolutely awful, but nevertheles...  negative\n",
       "1      Well since seeing part's 1 through 3 I can hon...  negative\n",
       "2      I got to see this film at a preview and was da...  positive\n",
       "3      This adaptation positively butchers a classic ...  negative\n",
       "4      Råzone is an awful movie! It is so simple. It ...  negative\n",
       "...                                                  ...       ...\n",
       "24995  With this movie being the only Dirty Harry mov...  positive\n",
       "24996  Any screen adaptation of a John Grisham story ...  positive\n",
       "24997  This film captured my heart from the very begi...  positive\n",
       "24998  A deplorable social condition triggers off the...  positive\n",
       "24999  Always enjoy the great acting of Drew Barrymor...  positive\n",
       "\n",
       "[25000 rows x 2 columns]"
      ]
     },
     "execution_count": 289,
     "metadata": {},
     "output_type": "execute_result"
    }
   ],
   "source": [
    "movs"
   ]
  },
  {
   "cell_type": "code",
   "execution_count": 290,
   "id": "3e3d8861",
   "metadata": {},
   "outputs": [
    {
     "data": {
      "text/plain": [
       "Negative    204\n",
       "Name: amazing, dtype: int64"
      ]
     },
     "execution_count": 290,
     "metadata": {},
     "output_type": "execute_result"
    }
   ],
   "source": [
    "neg_df.loc['amazing']"
   ]
  },
  {
   "cell_type": "code",
   "execution_count": 291,
   "id": "6a62920b",
   "metadata": {},
   "outputs": [
    {
     "data": {
      "text/plain": [
       "Positive    859\n",
       "Name: amazing, dtype: int64"
      ]
     },
     "execution_count": 291,
     "metadata": {},
     "output_type": "execute_result"
    }
   ],
   "source": [
    "pos_df.loc['amazing']"
   ]
  },
  {
   "cell_type": "markdown",
   "id": "23c3afa4",
   "metadata": {},
   "source": [
    "According the data, we can know the same word in different dataframe we have different times.\n"
   ]
  },
  {
   "cell_type": "code",
   "execution_count": null,
   "id": "55628783",
   "metadata": {},
   "outputs": [],
   "source": []
  },
  {
   "cell_type": "markdown",
   "id": "521e925c",
   "metadata": {},
   "source": [
    "We can create a function to implement Laplace smoothing and calculate the log probabilities. And let's us to explore what is the log proability and how too use it.\n",
    "### Log Proability:\n",
    "Because 60% of the words we are exposed to may be relevantly used in positive reviews and 40% in negative reviews. So we can know that words are correlated, so we need to calculate the likelihood of a word being correlated, but what should we do if we want to calculate it? We can try to use Laplace Smoothing. Laplace smoothing (Add-one smoothing) , it is a method used in Naive Bayes Classifer to handle zero probability problems, becuase sometimes, it is not possible to calculate the probability of a word being correlated. It is a method used in Naive Bayes Classifer to handle zero probability problems, becuase sometimes, a word exist in test set but not in training set, it will breaks the model because the probability would be zero. "
   ]
  },
  {
   "cell_type": "code",
   "execution_count": 311,
   "id": "a6ec464b",
   "metadata": {},
   "outputs": [],
   "source": [
    "# create a function to calculate log probabilitis with Laplace Smoothing \n",
    "def cal_prob(vocab_df, total_words, laplace=1):\n",
    "   \n",
    "    \n",
    "    vocab_size = len(vocab_df)\n",
    "    \n",
    "    # Apply Laplace smoothing(add-one smoothing)\n",
    "    vocab_df['log_prob'] = np.log((vocab_df['count'] + laplace) / (total_words + laplace * (vocab_size + 1)))\n",
    "    \n",
    "    # calculate the log probability for unseen words\n",
    "    log_prob = np.log(laplace / (total_words + laplace * (vocab_size + 1)))\n",
    "    \n",
    "    return vocab_df, log_prob\n",
    "\n",
    "# Calculate total words in each class\n",
    "total_pos_words = pos_df['count'].sum()\n",
    "total_neg_words = neg_df['count'].sum()\n"
   ]
  },
  {
   "cell_type": "markdown",
   "id": "69d66d2f",
   "metadata": {},
   "source": [
    "This function is implementing Laplace(Add-one smoothing): Through adds 1 to each word count, we can try to use the vocabulary size. Then, we begin to use the formula to calculate the log probabilities for each word. Then the "
   ]
  },
  {
   "cell_type": "code",
   "execution_count": 312,
   "id": "2afd819b",
   "metadata": {},
   "outputs": [],
   "source": [
    "# we using two different dataframe to calclluate the proability\n",
    "pos_df, pos_log =  cal_prob(pos_df, total_pos_words)\n",
    "neg_df, neg_log =  cal_prob(neg_df, total_neg_words)\n"
   ]
  },
  {
   "cell_type": "code",
   "execution_count": 313,
   "id": "db094b75",
   "metadata": {},
   "outputs": [],
   "source": [
    "# Calculate class priors\n",
    "prior_pos = len(pos_reviews) / len(train_set)\n",
    "prior_neg = len(neg_reviews) / len(train_set)"
   ]
  },
  {
   "cell_type": "code",
   "execution_count": 314,
   "id": "ef5ec7e9",
   "metadata": {},
   "outputs": [
    {
     "name": "stdout",
     "output_type": "stream",
     "text": [
      "\n",
      "Probability Calculation Complete:\n",
      "Positive log probability (unseen words): -14.1197\n",
      "Negative log probability (unseen words): -14.0747\n",
      "Class priors - Positive: 0.5014, Negative: 0.4985\n"
     ]
    }
   ],
   "source": [
    "# Try to visualize the data and log proability \n",
    "print(\"\\nProbability Calculation Complete:\")\n",
    "print(f\"Positive log probability (unseen words): {pos_log:.4f}\")\n",
    "print(f\"Negative log probability (unseen words): {neg_log:.4f}\")\n",
    "print(f\"Class priors - Positive: {prior_pos:.4f}, Negative: {prior_neg:.4f}\")"
   ]
  },
  {
   "cell_type": "markdown",
   "id": "e7d34b0b",
   "metadata": {},
   "source": [
    "Through observe the data above, we will chekc the percentage of positive and negative reviews.\n",
    "Then we also can know their log probability."
   ]
  },
  {
   "cell_type": "markdown",
   "id": "b28ec00f",
   "metadata": {},
   "source": [
    "## 3. Visualize the common words"
   ]
  },
  {
   "cell_type": "markdown",
   "id": "46e51807",
   "metadata": {},
   "source": [
    "We can use graphs to show the most likely positive and negative review words. We will refer to the word clouds library to access the two dataframes."
   ]
  },
  {
   "cell_type": "code",
   "execution_count": 197,
   "id": "f239159a",
   "metadata": {},
   "outputs": [],
   "source": [
    "from wordcloud import WordCloud"
   ]
  },
  {
   "cell_type": "code",
   "execution_count": 210,
   "id": "1c95f5a0",
   "metadata": {},
   "outputs": [],
   "source": [
    "# create a varaible to access the negative dataframe\n",
    "negcloud = WordCloud(max_words=50,background_color='white',colormap='jet')"
   ]
  },
  {
   "cell_type": "code",
   "execution_count": 206,
   "id": "4f13dd1c",
   "metadata": {},
   "outputs": [
    {
     "data": {
      "image/png": "[encoded data removed]",
      "text/plain": [
       "<Figure size 640x480 with 1 Axes>"
      ]
     },
     "metadata": {},
     "output_type": "display_data"
    }
   ],
   "source": [
    "negcloud.generate_from_frequencies(neg_df['Negative'])\n",
    "plt.imshow(negcloud)\n",
    "plt.show()"
   ]
  },
  {
   "cell_type": "code",
   "execution_count": 207,
   "id": "458270a4",
   "metadata": {},
   "outputs": [],
   "source": [
    "# We can use the same way to represent the positive words\n",
    "poscloud = WordCloud(max_words=50,background_color='white',colormap='jet')"
   ]
  },
  {
   "cell_type": "code",
   "execution_count": 209,
   "id": "b9a4b774",
   "metadata": {},
   "outputs": [
    {
     "data": {
      "image/png": "[encoded data removed]",
      "text/plain": [
       "<Figure size 640x480 with 1 Axes>"
      ]
     },
     "metadata": {},
     "output_type": "display_data"
    }
   ],
   "source": [
    "poscloud.generate_from_frequencies(pos_df['Positive'])\n",
    "plt.imshow(poscloud)\n",
    "plt.show()"
   ]
  },
  {
   "cell_type": "markdown",
   "id": "a4244680",
   "metadata": {},
   "source": [
    "## 4. Using Naive Bayes Classifier"
   ]
  },
  {
   "cell_type": "markdown",
   "id": "b0476785",
   "metadata": {},
   "source": [
    "As we mentioned before, we already know what is Naive Bayes Classifer, we can try to implemnt it to classify\n",
    "a mobie review as positive or negative given the text of the review. \n",
    "Here are some steps which we can process the reviews.\n",
    "* 1) we can utilize the \"steps_words\" file to take off the common words\n",
    "* 2) We can take off the HTML tags and cleaning the reviews\n",
    "* 3) Try to initializes probabilities with class priors \n",
    "* 4) For each review, we can adds its log probability\n",
    "* 5) Returns the class with higher probability"
   ]
  },
  {
   "cell_type": "code",
   "execution_count": 187,
   "id": "5af05b84",
   "metadata": {},
   "outputs": [],
   "source": [
    "# Create the function with all paramter\n",
    "# Classify a review as positive or negative using Naive Bayes\n",
    "def classify_review(text, pos_vocab, neg_vocab, pos_default, neg_default, prior_pos, prior_neg, stopwords):\n",
    "    # Clean the text by using \"stop_words\"\n",
    "    clears = clean_text(text, stopwords)\n",
    "    \n",
    "    # Initialize with log priors\n",
    "    log_prob_pos = np.log(prior_pos)\n",
    "    log_prob_neg = np.log(prior_neg)\n",
    "    \n",
    "    # Add log probabilities for each word\n",
    "    for word in clears:\n",
    "        log_prob_pos += pos_vocab.get(word, {}).get('log_prob', pos_default)\n",
    "        log_prob_neg += neg_vocab.get(word, {}).get('log_prob', neg_default)\n",
    "    # compare the log proability \n",
    "    return 'positive' if log_prob_pos > log_prob_neg else 'negative'\n"
   ]
  },
  {
   "cell_type": "code",
   "execution_count": null,
   "id": "87ca0d81",
   "metadata": {},
   "outputs": [],
   "source": []
  },
  {
   "cell_type": "code",
   "execution_count": 188,
   "id": "86d4df05",
   "metadata": {},
   "outputs": [],
   "source": [
    "# Test classification with a sample review\n",
    "sample_review = test_set.iloc[0]['review']\n",
    "prediction = classify_review(sample_review, pos_df, neg_df, pos_default, neg_default, prior_pos, prior_neg, stopwordlst)\n",
    "actual = test_set.iloc[0]['sentiment']"
   ]
  },
  {
   "cell_type": "code",
   "execution_count": 189,
   "id": "9f0132da",
   "metadata": {},
   "outputs": [
    {
     "name": "stdout",
     "output_type": "stream",
     "text": [
      "\n",
      "Sample Classification Test:\n",
      "Review: Immediately after renting and watching this movie several years ago, a friend and I decided that it ...\n",
      "Actual sentiment: negative, Predicted sentiment: negative\n"
     ]
    }
   ],
   "source": [
    "# Try to print out the classifier result \n",
    "print(\"\\nSample Classification Test:\")\n",
    "print(f\"Review: {sample_review[:100]}...\")\n",
    "print(f\"Actual sentiment: {actual}, Predicted sentiment: {prediction}\")"
   ]
  },
  {
   "cell_type": "markdown",
   "id": "0a931fe9",
   "metadata": {},
   "source": [
    "## 5. Analyze the classifier"
   ]
  },
  {
   "cell_type": "markdown",
   "id": "0280b707",
   "metadata": {},
   "source": [
    "We use Naive Bayes classifier to classify movie reviews, \n",
    "We can also analyze the performance of the classifier. For example, how accurate the classification is depends on the size of the training set,\n",
    "What percentage of the test data is correctly categorized, and so on. We'll explore this below.\n",
    "* First, we want to know what percentage of the test data is correctly categorized."
   ]
  },
  {
   "cell_type": "code",
   "execution_count": 190,
   "id": "f8a1b399",
   "metadata": {},
   "outputs": [],
   "source": [
    "# create a function to evaluate the classifier.\n",
    "def evaluate_classifier(test_df, classifier_func, *args):\n",
    " \n",
    "    correct = 0\n",
    "    # create a empty list \n",
    "    predictions = []\n",
    "    # create a loop to looping each row from the testing dataset\n",
    "    for _, row in test_df.iterrows():\n",
    "        pred = classifier_func(row['review'], *args)\n",
    "        # Append the each preducation at the list\n",
    "        predictions.append(pred)\n",
    "        # We have to check does they match each other\n",
    "        if pred == row['sentiment']:\n",
    "            correct += 1\n",
    "    # We also need to calculate the accuracy to help us visualize\n",
    "    accuracy = correct / len(test_df)\n",
    "    # Print out statement \n",
    "    print(f\"\\nClassifier Accuracy: {accuracy:.2%}\")\n",
    "    # Add predictions to test_df for analysis\n",
    "    test_df = test_df.copy()\n",
    "    test_df['prediction'] = predictions\n",
    "    return test_df, accuracy\n",
    "\n"
   ]
  },
  {
   "cell_type": "code",
   "execution_count": 191,
   "id": "93100ee6",
   "metadata": {},
   "outputs": [
    {
     "data": {
      "text/html": [
       "<div>\n",
       "<style scoped>\n",
       "    .dataframe tbody tr th:only-of-type {\n",
       "        vertical-align: middle;\n",
       "    }\n",
       "\n",
       "    .dataframe tbody tr th {\n",
       "        vertical-align: top;\n",
       "    }\n",
       "\n",
       "    .dataframe thead th {\n",
       "        text-align: right;\n",
       "    }\n",
       "</style>\n",
       "<table border=\"1\" class=\"dataframe\">\n",
       "  <thead>\n",
       "    <tr style=\"text-align: right;\">\n",
       "      <th></th>\n",
       "      <th>review</th>\n",
       "      <th>sentiment</th>\n",
       "      <th>prediction</th>\n",
       "    </tr>\n",
       "  </thead>\n",
       "  <tbody>\n",
       "    <tr>\n",
       "      <th>6868</th>\n",
       "      <td>Immediately after renting and watching this mo...</td>\n",
       "      <td>negative</td>\n",
       "      <td>negative</td>\n",
       "    </tr>\n",
       "    <tr>\n",
       "      <th>24016</th>\n",
       "      <td>This was a highly original decent movie, and a...</td>\n",
       "      <td>positive</td>\n",
       "      <td>negative</td>\n",
       "    </tr>\n",
       "    <tr>\n",
       "      <th>9668</th>\n",
       "      <td>I do not watch much television and came across...</td>\n",
       "      <td>negative</td>\n",
       "      <td>negative</td>\n",
       "    </tr>\n",
       "    <tr>\n",
       "      <th>13640</th>\n",
       "      <td>7 if you're a kid- 6 if you claim to be an adu...</td>\n",
       "      <td>positive</td>\n",
       "      <td>negative</td>\n",
       "    </tr>\n",
       "    <tr>\n",
       "      <th>14018</th>\n",
       "      <td>I think I agree that a lot of the comments her...</td>\n",
       "      <td>negative</td>\n",
       "      <td>negative</td>\n",
       "    </tr>\n",
       "    <tr>\n",
       "      <th>...</th>\n",
       "      <td>...</td>\n",
       "      <td>...</td>\n",
       "      <td>...</td>\n",
       "    </tr>\n",
       "    <tr>\n",
       "      <th>8670</th>\n",
       "      <td>Scoop *** out of **** Woody Allen is definitel...</td>\n",
       "      <td>positive</td>\n",
       "      <td>negative</td>\n",
       "    </tr>\n",
       "    <tr>\n",
       "      <th>11839</th>\n",
       "      <td>Richard Attenborough who already given us magn...</td>\n",
       "      <td>positive</td>\n",
       "      <td>negative</td>\n",
       "    </tr>\n",
       "    <tr>\n",
       "      <th>4013</th>\n",
       "      <td>This was different, that's for sure. Just look...</td>\n",
       "      <td>positive</td>\n",
       "      <td>negative</td>\n",
       "    </tr>\n",
       "    <tr>\n",
       "      <th>21147</th>\n",
       "      <td>Moon Child was one of the more symbolic movies...</td>\n",
       "      <td>positive</td>\n",
       "      <td>negative</td>\n",
       "    </tr>\n",
       "    <tr>\n",
       "      <th>695</th>\n",
       "      <td>Really bad movie. Maybe the worst I've ever se...</td>\n",
       "      <td>negative</td>\n",
       "      <td>negative</td>\n",
       "    </tr>\n",
       "  </tbody>\n",
       "</table>\n",
       "<p>5000 rows × 3 columns</p>\n",
       "</div>"
      ],
      "text/plain": [
       "                                                  review sentiment prediction\n",
       "6868   Immediately after renting and watching this mo...  negative   negative\n",
       "24016  This was a highly original decent movie, and a...  positive   negative\n",
       "9668   I do not watch much television and came across...  negative   negative\n",
       "13640  7 if you're a kid- 6 if you claim to be an adu...  positive   negative\n",
       "14018  I think I agree that a lot of the comments her...  negative   negative\n",
       "...                                                  ...       ...        ...\n",
       "8670   Scoop *** out of **** Woody Allen is definitel...  positive   negative\n",
       "11839  Richard Attenborough who already given us magn...  positive   negative\n",
       "4013   This was different, that's for sure. Just look...  positive   negative\n",
       "21147  Moon Child was one of the more symbolic movies...  positive   negative\n",
       "695    Really bad movie. Maybe the worst I've ever se...  negative   negative\n",
       "\n",
       "[5000 rows x 3 columns]"
      ]
     },
     "execution_count": 191,
     "metadata": {},
     "output_type": "execute_result"
    }
   ],
   "source": [
    "test_df # We can see the test dataframe"
   ]
  },
  {
   "cell_type": "code",
   "execution_count": 192,
   "id": "c1a8525c",
   "metadata": {},
   "outputs": [
    {
     "name": "stdout",
     "output_type": "stream",
     "text": [
      "\n",
      "Classifier Accuracy: 50.58%\n"
     ]
    }
   ],
   "source": [
    "# Evaluate the classifier with differernt elements, I try to choose all the elements.\n",
    "test_df, accuracy = evaluate_classifier(\n",
    "    test_set,     # testing set\n",
    "    classify_review, \n",
    "    pos_df, \n",
    "    neg_df,      \n",
    "    pos_log,      # Positive log probability\n",
    "    neg_log,      # negative log probability\n",
    "    prior_pos,    # Prior probability of positive review\n",
    "    prior_neg,    # Prior probability of negative review\n",
    "    stopwordlst   # Stepwords to exclude\n",
    ")"
   ]
  },
  {
   "cell_type": "markdown",
   "id": "66de5a2e",
   "metadata": {},
   "source": [
    "We try to evaluate the accuracy of our classifer with different elements which are:\n",
    "* Positive/negative log probability\n",
    "* Prior probability of positive/negative review\n",
    "* Stepwords to exclude\n",
    "* testing dataset\n",
    "* Dataframe for positive/negative\n",
    "And we can see the Classifier Accuracy is 50.58%"
   ]
  },
  {
   "cell_type": "markdown",
   "id": "f7d5fd0c",
   "metadata": {},
   "source": [
    "# Conclusion"
   ]
  },
  {
   "cell_type": "markdown",
   "id": "a62dd7eb",
   "metadata": {},
   "source": [
    "In this project, we can implemented a $Naive$ $Bayes$ $Classifier$ to predict movie revews are psoitive or negative successfully.\n",
    "At first, we spliting the big dataset into training data set and testing data set. And processed 25,000 mvie reviews, then cleaning test while removing stopwords.\n",
    "At the same time, we also applied Laplace smoothing(Add-one smoothing) to help us avoid breaking the model.Moreover,\n",
    "we also try to analysis the classifier performance on testing data. Then, we can use the words cloud to visualized words for nagetive and positive terms.\n"
   ]
  },
  {
   "cell_type": "markdown",
   "id": "d792620d",
   "metadata": {},
   "source": [
    "We also explored how to make the classifier work by calculating the log probabilities with Laplace Smoothing for positive/negative reviews by calculating their lexical frequency of occurrence separately to determine the baseline distribution. It is also possible to see what the most common positive and negative words are by looking at the results. Through this project, we can see that the Naive Bayes Classifier is a powerful analyzing tool. In the future, we can deploy a web app by training dataset and testing data set, which can be used for sentiment analysis or physical health analysis. Just give it detailed analysis information like “positive”, “negative”, “healthy”, “unhealthy”."
   ]
  },
  {
   "cell_type": "markdown",
   "id": "eecde7b0",
   "metadata": {},
   "source": [
    "## Citation:"
   ]
  },
  {
   "cell_type": "markdown",
   "id": "40a0e42c",
   "metadata": {},
   "source": [
    "* MTH448Lec21\n",
    "* MTH448Lec19"
   ]
  }
 ],
 "metadata": {
  "kernelspec": {
   "display_name": "Python 3 (ipykernel)",
   "language": "python",
   "name": "python3"
  },
  "language_info": {
   "codemirror_mode": {
    "name": "ipython",
    "version": 3
   },
   "file_extension": ".py",
   "mimetype": "text/x-python",
   "name": "python",
   "nbconvert_exporter": "python",
   "pygments_lexer": "ipython3",
   "version": "3.11.5"
  }
 },
 "nbformat": 4,
 "nbformat_minor": 5
}
